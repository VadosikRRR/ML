import torch
import numpy as np
import pandas as pd

dtype = torch.float
device = torch.device("cpu")
device = torch.device("cuda:0") # Uncomment this to run on GPU

data = pd.read_csv("WineQT.csv")
data_np = data.to_numpy()
data_torch = torch.tensor(data_np, dtype=dtype)

weight = torch.rand(data.shape[1] - 2, dtype=dtype, requires_grad=True)

learning_rate = 1e-7 * 2.4

for i in range(3000):
    preds_tensor = data_torch[:,:11] @ weight
    loss = sum((preds_tensor - data_torch[:,11]) ** 2)

    if i % 100 == 0:
        print(i, ": loss = ", loss.item())

    loss.backward()
    with torch.no_grad():
        weight -= learning_rate * weight.grad

        weight.grad = None

loss.item()
